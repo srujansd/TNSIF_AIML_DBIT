{
 "cells": [
  {
   "cell_type": "code",
   "execution_count": 1,
   "id": "e5f7835b-29b6-4385-b94e-a106ec5a8b5d",
   "metadata": {},
   "outputs": [
    {
     "name": "stdout",
     "output_type": "stream",
     "text": [
      "   CustomerID  Annual Income  Spending Score\n",
      "0           1             15              39\n",
      "1           2             16              81\n",
      "2           3             17               6\n",
      "3           4             18              77\n",
      "4           5             19              40\n",
      "5           6             20              76\n",
      "6           7             21               6\n",
      "7           8             22              94\n",
      "8           9             23               3\n",
      "9          10             24              72\n"
     ]
    }
   ],
   "source": [
    "data = {\n",
    "    'CustomerID': [1,2,3,4,5,6,7,8,9,10],\n",
    "    'Annual Income': [15,16,17,18,19,20,21,22,23,24],\n",
    "    'Spending Score': [39,81,6,77,40,76,6,94,3,72]\n",
    "}\n",
    "\n",
    "df = pd.DataFrame(data)\n",
    "print(df)\n"
   ]
  },
  {
   "cell_type": "code",
   "execution_count": 2,
   "id": "3b8acd4d-c085-4967-afeb-a0a731784daa",
   "metadata": {},
   "outputs": [],
   "source": [
    "X = df[['Annual Income', 'Spending Score']]\n"
   ]
  },
  {
   "cell_type": "code",
   "execution_count": 3,
   "id": "89743203-706e-4a5f-840a-451a06d7ab9d",
   "metadata": {},
   "outputs": [
    {
     "data": {
      "image/png": "[encoded data removed]",
      "text/plain": [
       "<Figure size 800x500 with 1 Axes>"
      ]
     },
     "metadata": {},
     "output_type": "display_data"
    }
   ],
   "source": [
    "import scipy.cluster.hierarchy as sch\n",
    "import matplotlib.pyplot as plt\n",
    "\n",
    "plt.figure(figsize=(8, 5))\n",
    "dendrogram = sch.dendrogram(sch.linkage(X, method='ward'))\n",
    "plt.title('Dendrogram')\n",
    "plt.xlabel('Customers')\n",
    "plt.ylabel('Euclidean Distance')\n",
    "plt.show()\n"
   ]
  },
  {
   "cell_type": "code",
   "execution_count": 5,
   "id": "f92c2d8b-3700-4f41-9335-2bfbc881e1ed",
   "metadata": {},
   "outputs": [
    {
     "name": "stdout",
     "output_type": "stream",
     "text": [
      "   CustomerID  Annual Income  Spending Score  Cluster\n",
      "0           1             15              39        2\n",
      "1           2             16              81        0\n",
      "2           3             17               6        1\n",
      "3           4             18              77        0\n",
      "4           5             19              40        2\n",
      "5           6             20              76        0\n",
      "6           7             21               6        1\n",
      "7           8             22              94        0\n",
      "8           9             23               3        1\n",
      "9          10             24              72        0\n"
     ]
    }
   ],
   "source": [
    "from sklearn.cluster import AgglomerativeClustering\n",
    "\n",
    "hc = AgglomerativeClustering(n_clusters=3, metric='euclidean', linkage='ward')\n",
    "y_hc = hc.fit_predict(X)\n",
    "\n",
    "df['Cluster'] = y_hc\n",
    "print(df)\n"
   ]
  },
  {
   "cell_type": "code",
   "execution_count": null,
   "id": "1f3bb32f-8b39-4238-ba72-69a180f40a74",
   "metadata": {},
   "outputs": [],
   "source": [
    "'''| Cluster | Annual Income (approx) | Spending Score (approx) | Interpretation                                                        |\n",
    "| ------- | ---------------------- | ----------------------- | --------------------------------------------------------------------- |\n",
    "| 0       | 15–18                  | low (3–6)               | Low income, low spenders → may need promotions to boost sales         |\n",
    "| 1       | 20–24                  | high (70–94)            | Higher income, high spenders → target them with premium products      |\n",
    "| 2       | 17–19                  | medium (\\~39–40)        | Mid-income, average spending → could be nurtured into loyal customers |\n",
    "'''"
   ]
  }
 ],
 "metadata": {
  "kernelspec": {
   "display_name": "Python 3 (ipykernel)",
   "language": "python",
   "name": "python3"
  },
  "language_info": {
   "codemirror_mode": {
    "name": "ipython",
    "version": 3
   },
   "file_extension": ".py",
   "mimetype": "text/x-python",
   "name": "python",
   "nbconvert_exporter": "python",
   "pygments_lexer": "ipython3",
   "version": "3.12.0"
  }
 },
 "nbformat": 4,
 "nbformat_minor": 5
}
